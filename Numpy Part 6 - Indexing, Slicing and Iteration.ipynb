{
 "cells": [
  {
   "cell_type": "markdown",
   "id": "b6bafdce-3d11-47c2-acfe-9ec12fdf8ea9",
   "metadata": {},
   "source": [
    "## Reshaping the array"
   ]
  },
  {
   "cell_type": "code",
   "execution_count": 1,
   "id": "d2982f10-1bf6-46fb-a460-3566d8574bd5",
   "metadata": {},
   "outputs": [],
   "source": [
    "import numpy as np"
   ]
  },
  {
   "cell_type": "code",
   "execution_count": 33,
   "id": "5b67cf03-2fbc-428f-8c3f-89a118f2c726",
   "metadata": {},
   "outputs": [
    {
     "name": "stdout",
     "output_type": "stream",
     "text": [
      "original array :  [ 1  2  3  4  5  6  7  8  9 10 11 12 13 14 15 16 17 18 19 20]\n",
      "reshaped array : \n"
     ]
    },
    {
     "data": {
      "text/plain": [
       "array([[ 1,  2,  3,  4,  5],\n",
       "       [ 6,  7,  8,  9, 10],\n",
       "       [11, 12, 13, 14, 15],\n",
       "       [16, 17, 18, 19, 20]])"
      ]
     },
     "execution_count": 33,
     "metadata": {},
     "output_type": "execute_result"
    }
   ],
   "source": [
    "# reshaping the array\n",
    "myarr = np.array([i for i in range(1, 21)])\n",
    "print('original array : ', myarr)\n",
    "\n",
    "reshaped = myarr.reshape(4,5)\n",
    "print('reshaped array : ')\n",
    "reshaped"
   ]
  },
  {
   "cell_type": "code",
   "execution_count": 35,
   "id": "81ad3dff-6816-4aa2-aabd-e9beaeec3e9f",
   "metadata": {},
   "outputs": [
    {
     "name": "stdout",
     "output_type": "stream",
     "text": [
      "reshaped array : \n"
     ]
    },
    {
     "data": {
      "text/plain": [
       "array([[ 1,  2,  3,  4,  5,  6,  7,  8,  9, 10],\n",
       "       [11, 12, 13, 14, 15, 16, 17, 18, 19, 20]])"
      ]
     },
     "execution_count": 35,
     "metadata": {},
     "output_type": "execute_result"
    }
   ],
   "source": [
    "reshaped = myarr.reshape(2,10)\n",
    "print('reshaped array : ')\n",
    "reshaped"
   ]
  },
  {
   "cell_type": "code",
   "execution_count": 36,
   "id": "18302e5d-4af9-4cde-881a-1d94aac976dd",
   "metadata": {},
   "outputs": [
    {
     "name": "stdout",
     "output_type": "stream",
     "text": [
      "reshaped array : \n"
     ]
    },
    {
     "data": {
      "text/plain": [
       "array([[ 1,  2],\n",
       "       [ 3,  4],\n",
       "       [ 5,  6],\n",
       "       [ 7,  8],\n",
       "       [ 9, 10],\n",
       "       [11, 12],\n",
       "       [13, 14],\n",
       "       [15, 16],\n",
       "       [17, 18],\n",
       "       [19, 20]])"
      ]
     },
     "execution_count": 36,
     "metadata": {},
     "output_type": "execute_result"
    }
   ],
   "source": [
    "reshaped = myarr.reshape(10,2)\n",
    "print('reshaped array : ')\n",
    "reshaped"
   ]
  },
  {
   "cell_type": "code",
   "execution_count": 37,
   "id": "be7c0435-6100-40d1-b719-3fc6429325f0",
   "metadata": {},
   "outputs": [
    {
     "name": "stdout",
     "output_type": "stream",
     "text": [
      "reshaped array : \n"
     ]
    },
    {
     "data": {
      "text/plain": [
       "array([[ 1],\n",
       "       [ 2],\n",
       "       [ 3],\n",
       "       [ 4],\n",
       "       [ 5],\n",
       "       [ 6],\n",
       "       [ 7],\n",
       "       [ 8],\n",
       "       [ 9],\n",
       "       [10],\n",
       "       [11],\n",
       "       [12],\n",
       "       [13],\n",
       "       [14],\n",
       "       [15],\n",
       "       [16],\n",
       "       [17],\n",
       "       [18],\n",
       "       [19],\n",
       "       [20]])"
      ]
     },
     "execution_count": 37,
     "metadata": {},
     "output_type": "execute_result"
    }
   ],
   "source": [
    "reshaped = myarr.reshape(20,1)\n",
    "print('reshaped array : ')\n",
    "reshaped"
   ]
  },
  {
   "cell_type": "markdown",
   "id": "73a608fa-59c6-4f34-9eac-7bae5347eb2d",
   "metadata": {},
   "source": [
    "## Slicing"
   ]
  },
  {
   "cell_type": "code",
   "execution_count": 38,
   "id": "712d5a8e-e1d8-4670-80c4-bf9885e01328",
   "metadata": {},
   "outputs": [
    {
     "data": {
      "text/plain": [
       "array([ 1,  2,  3,  4,  5,  6,  7,  8,  9, 10, 11, 12, 13, 14, 15, 16, 17,\n",
       "       18, 19, 20])"
      ]
     },
     "execution_count": 38,
     "metadata": {},
     "output_type": "execute_result"
    }
   ],
   "source": [
    "myarr"
   ]
  },
  {
   "cell_type": "code",
   "execution_count": 45,
   "id": "ccec9437-d337-4d43-9816-b4f6909b244d",
   "metadata": {},
   "outputs": [
    {
     "name": "stdout",
     "output_type": "stream",
     "text": [
      "- First element :  1\n",
      "- Last element :  20\n",
      "- From range 3 to 4 :  [ 4  5  6  7  8  9 10]\n",
      "- From range -1 to -10 :  [20]\n"
     ]
    }
   ],
   "source": [
    "print('- First element : ',myarr[0])\n",
    "print('- Last element : ',myarr[-1])\n",
    "print('- From range 3 to 4 : ',myarr[3 : 10])"
   ]
  },
  {
   "cell_type": "code",
   "execution_count": 49,
   "id": "b9be7485-ec5e-476d-938a-c15c32564090",
   "metadata": {},
   "outputs": [
    {
     "data": {
      "text/plain": [
       "array([[ 1,  2,  3,  4,  5],\n",
       "       [ 6,  7,  8,  9, 10],\n",
       "       [11, 12, 13, 14, 15],\n",
       "       [16, 17, 18, 19, 20],\n",
       "       [21, 22, 23, 24, 25]])"
      ]
     },
     "execution_count": 49,
     "metadata": {},
     "output_type": "execute_result"
    }
   ],
   "source": [
    "demo = np.arange(1, 26)\n",
    "demo = demo.reshape(5, 5)\n",
    "demo"
   ]
  },
  {
   "cell_type": "code",
   "execution_count": 50,
   "id": "1c2c9c13-228f-4c30-9d4e-c7abfb23b433",
   "metadata": {},
   "outputs": [
    {
     "data": {
      "text/plain": [
       "array([ 6,  7,  8,  9, 10])"
      ]
     },
     "execution_count": 50,
     "metadata": {},
     "output_type": "execute_result"
    }
   ],
   "source": [
    "demo[1]"
   ]
  },
  {
   "cell_type": "code",
   "execution_count": 52,
   "id": "9ab287f1-b421-450e-96f5-3210143a1bd7",
   "metadata": {},
   "outputs": [
    {
     "data": {
      "text/plain": [
       "array([[ 1,  2,  3,  4,  5],\n",
       "       [ 6,  7,  8,  9, 10],\n",
       "       [11, 12, 13, 14, 15]])"
      ]
     },
     "execution_count": 52,
     "metadata": {},
     "output_type": "execute_result"
    }
   ],
   "source": [
    "demo[0:3]"
   ]
  },
  {
   "cell_type": "code",
   "execution_count": 71,
   "id": "ed502b15-d50f-4e48-8934-7b2e9f4f0ebf",
   "metadata": {},
   "outputs": [
    {
     "data": {
      "text/plain": [
       "array([[ 1,  2,  3,  4,  5],\n",
       "       [ 6,  7,  8,  9, 10],\n",
       "       [11, 12, 13, 14, 15],\n",
       "       [16, 17, 18, 19, 20],\n",
       "       [21, 22, 23, 24, 25]])"
      ]
     },
     "execution_count": 71,
     "metadata": {},
     "output_type": "execute_result"
    }
   ],
   "source": [
    "demo"
   ]
  },
  {
   "cell_type": "code",
   "execution_count": 70,
   "id": "ce73723e-a00a-4d6d-8945-65f1e22a9362",
   "metadata": {},
   "outputs": [
    {
     "data": {
      "text/plain": [
       "array([[ 3,  4,  5],\n",
       "       [ 8,  9, 10],\n",
       "       [13, 14, 15]])"
      ]
     },
     "execution_count": 70,
     "metadata": {},
     "output_type": "execute_result"
    }
   ],
   "source": [
    "# demo['outer array', 'inner array']\n",
    "demo[0:3, 2:]"
   ]
  },
  {
   "cell_type": "code",
   "execution_count": 106,
   "id": "3906d76c-c8cc-4958-946d-cc48f0d2fe1c",
   "metadata": {},
   "outputs": [
    {
     "name": "stderr",
     "output_type": "stream",
     "text": [
      "Processing List: 100%|\u001b[38;2;76;201;254m█████████████████████████████████████████████████████████████████\u001b[0m| 99/99 [00:10<00:00,  9.30it/s]\u001b[0m"
     ]
    },
    {
     "name": "stdout",
     "output_type": "stream",
     "text": [
      "\n",
      "Final disc count: 99\n"
     ]
    },
    {
     "name": "stderr",
     "output_type": "stream",
     "text": [
      "\n"
     ]
    }
   ],
   "source": [
    "from tqdm import tqdm \n",
    "import time\n",
    "my_list = [i for i in range(1, 100)]\n",
    "disc_count = 0  # Initialize the counter\n",
    "\n",
    "for item in tqdm(my_list, desc=\"Processing List\", colour='#4CC9FE'):\n",
    "    # Perform some operation with each item\n",
    "    # print(item)\n",
    "    \n",
    "    # Increase the disc count after reading each item\n",
    "    disc_count += 1\n",
    "    time.sleep(0.1)\n",
    "\n",
    "print(f\"\\nFinal disc count: {disc_count}\")\n"
   ]
  },
  {
   "cell_type": "code",
   "execution_count": null,
   "id": "58389ed8-cdfa-4d59-99b3-54fb333a2955",
   "metadata": {},
   "outputs": [],
   "source": []
  }
 ],
 "metadata": {
  "kernelspec": {
   "display_name": "Python 3 (ipykernel)",
   "language": "python",
   "name": "python3"
  },
  "language_info": {
   "codemirror_mode": {
    "name": "ipython",
    "version": 3
   },
   "file_extension": ".py",
   "mimetype": "text/x-python",
   "name": "python",
   "nbconvert_exporter": "python",
   "pygments_lexer": "ipython3",
   "version": "3.12.6"
  }
 },
 "nbformat": 4,
 "nbformat_minor": 5
}
