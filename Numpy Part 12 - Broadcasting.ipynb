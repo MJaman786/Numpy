{
 "cells": [
  {
   "cell_type": "code",
   "execution_count": 1,
   "id": "f642f178-cf50-4158-ba27-00384ed261b8",
   "metadata": {},
   "outputs": [],
   "source": [
    "import numpy as np"
   ]
  },
  {
   "cell_type": "code",
   "execution_count": 2,
   "id": "b7627f91-08e8-42cb-b967-8b62092a9b67",
   "metadata": {},
   "outputs": [],
   "source": [
    "x = np.arange(0,10).reshape(5, 2)"
   ]
  },
  {
   "cell_type": "code",
   "execution_count": 3,
   "id": "4b92f4d4-b3f3-4bee-92e6-923df49a2af6",
   "metadata": {},
   "outputs": [
    {
     "data": {
      "text/plain": [
       "array([[0, 1],\n",
       "       [2, 3],\n",
       "       [4, 5],\n",
       "       [6, 7],\n",
       "       [8, 9]])"
      ]
     },
     "execution_count": 3,
     "metadata": {},
     "output_type": "execute_result"
    }
   ],
   "source": [
    "x"
   ]
  },
  {
   "cell_type": "code",
   "execution_count": 4,
   "id": "28078eb7-c9b4-4418-9160-f619d27e20f5",
   "metadata": {},
   "outputs": [
    {
     "data": {
      "text/plain": [
       "array([[10, 11],\n",
       "       [12, 13],\n",
       "       [14, 15],\n",
       "       [16, 17],\n",
       "       [18, 19]])"
      ]
     },
     "execution_count": 4,
     "metadata": {},
     "output_type": "execute_result"
    }
   ],
   "source": [
    "y = np.arange(10,20).reshape(5,2)\n",
    "y"
   ]
  },
  {
   "cell_type": "code",
   "execution_count": 5,
   "id": "da045802-53da-49d0-a612-f50c009b1961",
   "metadata": {},
   "outputs": [
    {
     "data": {
      "text/plain": [
       "array([[10, 12],\n",
       "       [14, 16],\n",
       "       [18, 20],\n",
       "       [22, 24],\n",
       "       [26, 28]])"
      ]
     },
     "execution_count": 5,
     "metadata": {},
     "output_type": "execute_result"
    }
   ],
   "source": [
    "z = x + y\n",
    "z"
   ]
  },
  {
   "cell_type": "markdown",
   "id": "57f54c57-f6a9-485b-a3b5-4856a6e73d22",
   "metadata": {},
   "source": [
    "## Broadcasting term (horizontal)"
   ]
  },
  {
   "cell_type": "raw",
   "id": "2aa96d1f-2c90-49f7-a9f8-c321e38e18e8",
   "metadata": {},
   "source": [
    "slicing rule \n",
    "array_name = ['start_index(include)' : 'end_index(exclude)']\n",
    "arr[1:4]"
   ]
  },
  {
   "cell_type": "code",
   "execution_count": 6,
   "id": "37f6c3df-a30b-4e81-a5e0-ba1984f247b6",
   "metadata": {},
   "outputs": [
    {
     "name": "stdout",
     "output_type": "stream",
     "text": [
      "[[0 1]\n",
      " [2 3]\n",
      " [4 5]\n",
      " [6 7]\n",
      " [8 9]] [[0 1]\n",
      " [2 3]]\n"
     ]
    }
   ],
   "source": [
    "a = np.arange(10).reshape(5,2)\n",
    "b = np.arange(0, 4).reshape(2,2)\n",
    "print(a, b)"
   ]
  },
  {
   "cell_type": "code",
   "execution_count": 7,
   "id": "cf24116a-4a2e-4f21-b7a0-eba58ea97629",
   "metadata": {},
   "outputs": [],
   "source": [
    "b = b[1:]"
   ]
  },
  {
   "cell_type": "code",
   "execution_count": 8,
   "id": "badb7e6a-a045-4e43-9cd6-43ecc4d7415b",
   "metadata": {},
   "outputs": [
    {
     "data": {
      "text/plain": [
       "array([[2, 3]])"
      ]
     },
     "execution_count": 8,
     "metadata": {},
     "output_type": "execute_result"
    }
   ],
   "source": [
    "b"
   ]
  },
  {
   "cell_type": "code",
   "execution_count": 9,
   "id": "c19b29e2-ca04-4b79-a481-2babcb77f0a7",
   "metadata": {},
   "outputs": [
    {
     "name": "stdout",
     "output_type": "stream",
     "text": [
      "[[ 2  4]\n",
      " [ 4  6]\n",
      " [ 6  8]\n",
      " [ 8 10]\n",
      " [10 12]]\n"
     ]
    }
   ],
   "source": [
    "c = a + b[0:1]\n",
    "print(c)"
   ]
  },
  {
   "cell_type": "code",
   "execution_count": 10,
   "id": "209d02b0-89c5-445e-bd0b-d25a16003724",
   "metadata": {},
   "outputs": [
    {
     "name": "stdout",
     "output_type": "stream",
     "text": [
      "[0 1 2 3 4 5 6 7 8 9] [0 1 2 3]\n"
     ]
    }
   ],
   "source": [
    "a = np.arange(10)\n",
    "b = np.arange(4)\n",
    "print(a, b)"
   ]
  },
  {
   "cell_type": "code",
   "execution_count": 11,
   "id": "e23ffcb7-af95-4e5b-a57f-a8c3bc179ae0",
   "metadata": {},
   "outputs": [
    {
     "name": "stdout",
     "output_type": "stream",
     "text": [
      "[0 2 4 6]\n"
     ]
    }
   ],
   "source": [
    "c = a[:4] + b\n",
    "print(c)"
   ]
  },
  {
   "cell_type": "markdown",
   "id": "ff53eefc-f4a2-4153-ae57-008ee1da7582",
   "metadata": {},
   "source": [
    "## Broadcasting term (Vertical)"
   ]
  },
  {
   "cell_type": "code",
   "execution_count": 23,
   "id": "2e2c7c6b-5f8b-42c1-8987-d279cf680563",
   "metadata": {},
   "outputs": [
    {
     "name": "stdout",
     "output_type": "stream",
     "text": [
      "Array i :\n",
      "[[0 1]\n",
      " [2 3]\n",
      " [4 5]\n",
      " [6 7]\n",
      " [8 9]]\n",
      "\n",
      "Array j :\n",
      "[[0]\n",
      " [1]\n",
      " [2]\n",
      " [3]\n",
      " [4]]\n"
     ]
    }
   ],
   "source": [
    "import numpy as np\n",
    "\n",
    "i = np.arange(0, 10).reshape(5, 2)\n",
    "j = np.arange(5).reshape(5,1)\n",
    "\n",
    "print(\"Array i :\")\n",
    "print(i)\n",
    "\n",
    "print(\"\\nArray j :\")\n",
    "print(j)\n"
   ]
  },
  {
   "cell_type": "code",
   "execution_count": 25,
   "id": "a93bf549-a2d0-4c1d-8ce4-1a1c58f68999",
   "metadata": {},
   "outputs": [
    {
     "name": "stdout",
     "output_type": "stream",
     "text": [
      "Array k :\n",
      "[[ 0  1]\n",
      " [ 3  4]\n",
      " [ 6  7]\n",
      " [ 9 10]\n",
      " [12 13]]\n"
     ]
    }
   ],
   "source": [
    "k = i + j\n",
    "print(\"Array k :\")\n",
    "print(k)"
   ]
  },
  {
   "cell_type": "code",
   "execution_count": 30,
   "id": "d33ec9c8-91e6-479e-b610-94f0c263d391",
   "metadata": {},
   "outputs": [
    {
     "name": "stdout",
     "output_type": "stream",
     "text": [
      "Array 1 :\n",
      "[[0]\n",
      " [1]\n",
      " [2]\n",
      " [3]\n",
      " [4]]\n",
      "Array 2 :\n",
      "[[5 6 7 8 9]]\n"
     ]
    }
   ],
   "source": [
    "arr1 = np.arange(5).reshape(5,1)\n",
    "arr2 = np.arange(5,10).reshape(1,5)\n",
    "\n",
    "print(\"Array 1 :\")\n",
    "print(arr1)\n",
    "\n",
    "print(\"Array 2 :\")\n",
    "print(arr2)"
   ]
  },
  {
   "cell_type": "code",
   "execution_count": 31,
   "id": "a61e9d91-6efe-4293-8e42-b1f5ade3fc07",
   "metadata": {},
   "outputs": [
    {
     "name": "stdout",
     "output_type": "stream",
     "text": [
      "[[ 5  6  7  8  9]\n",
      " [ 6  7  8  9 10]\n",
      " [ 7  8  9 10 11]\n",
      " [ 8  9 10 11 12]\n",
      " [ 9 10 11 12 13]]\n"
     ]
    }
   ],
   "source": [
    "arr3 = arr1 + arr2\n",
    "print(arr3)"
   ]
  },
  {
   "cell_type": "code",
   "execution_count": null,
   "id": "c42e6d7c-2111-4eb0-a3ea-4870acf666e0",
   "metadata": {},
   "outputs": [],
   "source": []
  }
 ],
 "metadata": {
  "kernelspec": {
   "display_name": "Python 3 (ipykernel)",
   "language": "python",
   "name": "python3"
  },
  "language_info": {
   "codemirror_mode": {
    "name": "ipython",
    "version": 3
   },
   "file_extension": ".py",
   "mimetype": "text/x-python",
   "name": "python",
   "nbconvert_exporter": "python",
   "pygments_lexer": "ipython3",
   "version": "3.12.6"
  }
 },
 "nbformat": 4,
 "nbformat_minor": 5
}
