{
 "cells": [
  {
   "cell_type": "code",
   "execution_count": 29,
   "id": "22cf8708-b75e-4f5a-8dad-fbe9befb463e",
   "metadata": {},
   "outputs": [],
   "source": [
    "import numpy as np\n",
    "import sys\n",
    "import time"
   ]
  },
  {
   "cell_type": "code",
   "execution_count": 34,
   "id": "aaa0fedc-714e-4867-a85c-cd68dd9465ce",
   "metadata": {},
   "outputs": [
    {
     "name": "stdout",
     "output_type": "stream",
     "text": [
      "Memory usage:\n",
      "Python List: 8000056 bytes\n",
      "NumPy Array: 4000000 bytes\n"
     ]
    }
   ],
   "source": [
    "# Create a large list and a large NumPy array\n",
    "size = 1000000  # 1 million elements\n",
    "python_list = list(range(size))\n",
    "numpy_array = np.array(range(size))\n",
    "\n",
    "# Memory usage\n",
    "list_memory = sys.getsizeof(python_list)\n",
    "array_memory = numpy_array.nbytes  # NumPy arrays use nbytes to get the total number of bytes\n",
    "\n",
    "print(f\"Memory usage:\")\n",
    "print(f\"Python List: {list_memory} bytes\")\n",
    "print(f\"NumPy Array: {array_memory} bytes\")"
   ]
  },
  {
   "cell_type": "code",
   "execution_count": 37,
   "id": "0e565f37-3474-4c23-80a2-cbbfa73a5756",
   "metadata": {},
   "outputs": [
    {
     "name": "stdout",
     "output_type": "stream",
     "text": [
      "\n",
      "Time to add 10 to each element in Python List: 0.15275 seconds\n",
      "Time to add 10 to each element in NumPy Array: 0.00167 seconds\n",
      "\n",
      "Time to multiply each element by 2 in Python List: 0.07976 seconds\n",
      "Time to multiply each element by 2 in NumPy Array: 0.00000 seconds\n"
     ]
    }
   ],
   "source": [
    "# Time performance for operations\n",
    "\n",
    "# Time for adding 10 to each element in Python List\n",
    "start_time = time.time()\n",
    "python_list_added = [x + 10 for x in python_list]  # List comprehension for element-wise addition\n",
    "end_time = time.time()\n",
    "print(f\"\\nTime to add 10 to each element in Python List: {end_time - start_time:.5f} seconds\")\n",
    "\n",
    "# Time for adding 10 to each element in NumPy Array\n",
    "start_time = time.time()\n",
    "numpy_array_added = numpy_array + 10  # Vectorized operation in NumPy\n",
    "end_time = time.time()\n",
    "print(f\"Time to add 10 to each element in NumPy Array: {end_time - start_time:.5f} seconds\")\n",
    "\n",
    "# Time for multiplying elements\n",
    "# Time for multiplying by 2 in Python List\n",
    "start_time = time.time()\n",
    "python_list_multiplied = [x * 2 for x in python_list]  # List comprehension for element-wise multiplication\n",
    "end_time = time.time()\n",
    "print(f\"\\nTime to multiply each element by 2 in Python List: {end_time - start_time:.5f} seconds\")\n",
    "\n",
    "# Time for multiplying by 2 in NumPy Array\n",
    "start_time = time.time()\n",
    "numpy_array_multiplied = numpy_array * 2 # Vectorized operation in NumPy\n",
    "end_time = time.time()\n",
    "print(f\"Time to multiply each element by 2 in NumPy Array: {end_time - start_time:.5f} seconds\")"
   ]
  },
  {
   "cell_type": "code",
   "execution_count": 36,
   "id": "dbfc2021-68bd-455d-b3c5-44a5a682dd83",
   "metadata": {},
   "outputs": [
    {
     "name": "stderr",
     "output_type": "stream",
     "text": [
      "Processing: 100%|████████████████████████████████████████████████████████████████████| 100/100 [00:10<00:00,  9.61it/s]\n"
     ]
    }
   ],
   "source": [
    "from tqdm import tqdm\n",
    "import time\n",
    "\n",
    "# Loop with tqdm progress bar\n",
    "for i in tqdm(range(100), desc=\"Processing\"):\n",
    "    time.sleep(0.1)  # Simulate work by sleeping for 0.1 seconds"
   ]
  }
 ],
 "metadata": {
  "kernelspec": {
   "display_name": "Python 3 (ipykernel)",
   "language": "python",
   "name": "python3"
  },
  "language_info": {
   "codemirror_mode": {
    "name": "ipython",
    "version": 3
   },
   "file_extension": ".py",
   "mimetype": "text/x-python",
   "name": "python",
   "nbconvert_exporter": "python",
   "pygments_lexer": "ipython3",
   "version": "3.12.6"
  }
 },
 "nbformat": 4,
 "nbformat_minor": 5
}
